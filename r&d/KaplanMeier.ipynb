{
 "cells": [
  {
   "cell_type": "code",
   "execution_count": null,
   "metadata": {
    "pycharm": {
     "name": "#%%\n",
     "is_executing": true
    }
   },
   "outputs": [],
   "source": [
    "import matplotlib.pyplot as plt\n",
    "import pandas as pd\n",
    "%matplotlib inline\n",
    "%load_ext autoreload"
   ]
  },
  {
   "cell_type": "code",
   "execution_count": null,
   "metadata": {
    "pycharm": {
     "name": "#%%\n",
     "is_executing": true
    }
   },
   "outputs": [],
   "source": [
    "from v2.data_transformers.AttritionTrsTransformer import AttritionTrsTransformer\n",
    "\n",
    "path = '<path_to_file>.csv'\n",
    "outputh_path = '<path_to_file>'\n",
    "cleanup = False\n",
    "attrition_transformer = AttritionTrsTransformer(path_to_data=path, cleanup=False)\n",
    "attr_data = attrition_transformer.prepare_data_for_attrition_prediction(min_date='01.01.2018')\n",
    "\n",
    "if not cleanup:\n",
    "    attr_data.drop(['name', 'surname', 'employee'], axis=1, inplace=True)\n",
    "\n",
    "attr_data.drop(['unique_id', 'mapped_last_project'], axis=1, inplace=True)\n",
    "attr_data.rename({'sub-contract': 'sub_contract'}, inplace=True)"
   ]
  },
  {
   "cell_type": "code",
   "metadata": {
    "pycharm": {
     "name": "#%%\n",
     "is_executing": true
    }
   },
   "source": [
    "attr_data.columns"
   ],
   "execution_count": null,
   "outputs": []
  },
  {
   "cell_type": "code",
   "execution_count": null,
   "metadata": {
    "pycharm": {
     "name": "#%%\n",
     "is_executing": true
    }
   },
   "outputs": [],
   "source": [
    "cat_columns = [val for val in attr_data.columns if attr_data[val].dtype == 'object']\n",
    "cat_columns"
   ]
  },
  {
   "cell_type": "code",
   "execution_count": null,
   "metadata": {
    "pycharm": {
     "name": "#%%\n",
     "is_executing": true
    }
   },
   "outputs": [],
   "source": [
    "for col in cat_columns:\n",
    "    print('*********')\n",
    "    print(attr_data[col].value_counts())\n"
   ]
  },
  {
   "cell_type": "code",
   "execution_count": null,
   "metadata": {
    "pycharm": {
     "name": "#%%\n",
     "is_executing": true
    }
   },
   "outputs": [],
   "source": [
    "from lifelines import KaplanMeierFitter\n",
    "import matplotlib.pyplot as plt\n",
    "durations = attr_data['tenure_in_years'] ## Time to event data of censored and event data\n",
    "event_observed = attr_data['stay/left']  ## It has the churned (1) and censored is (0)\n",
    "\n",
    "## create a kmf object as km\n",
    "km = KaplanMeierFitter() ## instantiate the class to create an object\n",
    "\n",
    "## Fit the data into the model\n",
    "km.fit(durations, event_observed,label='Kaplan Meier Estimate')\n",
    "#\n",
    "# ## Create an estimate\n",
    "km.plot_survival_function(at_risk_counts=True)\n",
    "plt.tight_layout()"
   ]
  },
  {
   "cell_type": "code",
   "execution_count": null,
   "metadata": {
    "pycharm": {
     "name": "#%%\n",
     "is_executing": true
    }
   },
   "outputs": [],
   "source": [
    "km_contract = KaplanMeierFitter()\n",
    "\n",
    "groups = attr_data['contract type']             ## Create the cohorts from the 'Contract' column\n",
    "ix1 = (groups == 'Permanent')   ## Cohort 1\n",
    "ix2 = (groups == 'Contract')         ## Cohort 2\n",
    "ix3 = (groups == 'Sub-contract')         ## Cohort 3\n",
    "\n",
    "\n",
    "km_contract.fit(durations[ix1], event_observed[ix1], label='Permanent')    ## fit the cohort 1 data\n",
    "ax = km_contract.plot()\n",
    "\n",
    "\n",
    "km_contract.fit(durations[ix2], event_observed[ix2], label='Contract')         ## fit the cohort 2 data\n",
    "ax1 = km_contract.plot(ax=ax)\n",
    "\n",
    "\n",
    "km_contract.fit(durations[ix3], event_observed[ix3], label='Sub-contract')        ## fit the cohort 3 data\n",
    "km_contract.plot(ax=ax1)\n"
   ]
  },
  {
   "cell_type": "code",
   "execution_count": null,
   "metadata": {
    "pycharm": {
     "name": "#%%\n",
     "is_executing": true
    }
   },
   "outputs": [],
   "source": [
    "# Office location\n",
    "\n",
    "km_office = KaplanMeierFitter()\n",
    "\n",
    "groups = attr_data['office location']             ## Create the cohorts from the 'Contract' column\n",
    "ix1 = (groups == 'Lodz')   ## Cohort 1\n",
    "ix2 = (groups == 'Poznan')         ## Cohort 2\n",
    "ix3 = (groups == 'Warszawa')\n",
    "ix4 = (groups == 'Remote')\n",
    "ix5 = (groups == 'Krakow')   ## Cohort 3\n",
    "\n",
    "\n",
    "km_office.fit(durations[ix1], event_observed[ix1], label='Lodz')    ## fit the cohort 1 data\n",
    "ax = km_office.plot()\n",
    "\n",
    "\n",
    "km_office.fit(durations[ix2], event_observed[ix2], label='Poznan')         ## fit the cohort 2 data\n",
    "ax1 = km_office.plot(ax=ax)\n",
    "\n",
    "\n",
    "km_office.fit(durations[ix3], event_observed[ix3], label='Warszawa')        ## fit the cohort 3 data\n",
    "km_office.plot(ax=ax1)\n",
    "\n",
    "km_office.fit(durations[ix4], event_observed[ix4], label='Remote')        ## fit the cohort 3 data\n",
    "km_office.plot(ax=ax1)\n",
    "\n",
    "km_office.fit(durations[ix5], event_observed[ix5], label='Krakow')        ## fit the cohort 3 data\n",
    "km_office.plot(ax=ax1)"
   ]
  },
  {
   "cell_type": "code",
   "execution_count": null,
   "metadata": {
    "pycharm": {
     "name": "#%%\n",
     "is_executing": true
    }
   },
   "outputs": [],
   "source": [
    "km.conditional_time_to_event_"
   ]
  },
  {
   "cell_type": "code",
   "execution_count": null,
   "metadata": {
    "pycharm": {
     "name": "#%%\n",
     "is_executing": true
    }
   },
   "outputs": [],
   "source": [
    "from lifelines.plotting import plot_lifetimes\n"
   ]
  },
  {
   "cell_type": "code",
   "execution_count": null,
   "metadata": {
    "pycharm": {
     "name": "#%%\n",
     "is_executing": true
    }
   },
   "outputs": [],
   "source": [
    "km.median_survival_time_"
   ]
  },
  {
   "cell_type": "code",
   "execution_count": null,
   "metadata": {
    "pycharm": {
     "name": "#%%\n",
     "is_executing": true
    }
   },
   "outputs": [],
   "source": [
    "from lifelines.utils import median_survival_times\n",
    "median_ci = median_survival_times(km.confidence_interval_)\n",
    "median_ci"
   ]
  },
  {
   "cell_type": "code",
   "execution_count": null,
   "metadata": {
    "pycharm": {
     "name": "#%%\n",
     "is_executing": true
    }
   },
   "outputs": [],
   "source": [
    "import pandas as pd\n",
    "attr_data = pd.get_dummies(attr_data, drop_first=True)\n",
    "attr_data.head()"
   ]
  },
  {
   "cell_type": "code",
   "execution_count": null,
   "outputs": [],
   "source": [
    "#attr_data.columns"
   ],
   "metadata": {
    "collapsed": false,
    "pycharm": {
     "name": "#%%\n",
     "is_executing": true
    }
   }
  },
  {
   "cell_type": "code",
   "execution_count": null,
   "metadata": {
    "pycharm": {
     "name": "#%%\n",
     "is_executing": true
    }
   },
   "outputs": [],
   "source": [
    "from lifelines import CoxPHFitter"
   ]
  },
  {
   "cell_type": "code",
   "execution_count": null,
   "outputs": [],
   "source": [
    "# VIF removal multicollinearity\n",
    "attr_data.drop(['mapped_last_grade', 'other'], axis=1, inplace=True)\n"
   ],
   "metadata": {
    "collapsed": false,
    "pycharm": {
     "name": "#%%\n",
     "is_executing": true
    }
   }
  },
  {
   "cell_type": "code",
   "execution_count": null,
   "outputs": [],
   "source": [
    "# VIF to verify m-coli\n",
    "from statsmodels.stats.outliers_influence import variance_inflation_factor\n",
    "\n",
    "# VIF dataframe\n",
    "vif_data = pd.DataFrame()\n",
    "target = attr_data['stay/left']\n",
    "X = attr_data.drop(['stay/left'], axis=1)\n",
    "assert 'stay/left' not in X.columns\n",
    "vif_data[\"feature\"] = X.columns\n",
    "vif_data[\"VIF\"] = [variance_inflation_factor(X.values, i)\n",
    "                          for i in range(len(X.columns))]\n",
    "\n",
    "print(vif_data)"
   ],
   "metadata": {
    "collapsed": false,
    "pycharm": {
     "name": "#%%\n",
     "is_executing": true
    }
   }
  },
  {
   "cell_type": "code",
   "execution_count": null,
   "metadata": {
    "pycharm": {
     "name": "#%%\n",
     "is_executing": true
    }
   },
   "outputs": [],
   "source": [
    "cph = CoxPHFitter()\n",
    "X = pd.concat([X, target], axis=1)\n",
    "cph.fit(X, duration_col='tenure_in_years', event_col='stay/left')\n",
    "cph.print_summary()"
   ]
  },
  {
   "cell_type": "code",
   "execution_count": null,
   "metadata": {
    "pycharm": {
     "name": "#%%\n",
     "is_executing": true
    }
   },
   "outputs": [],
   "source": [
    "small_test = attr_data.sample(10)\n",
    "small_test = small_test[small_test['stay/left'] == 0]\n",
    "small_test.drop(['stay/left'], axis=1, inplace=True)\n",
    "small_test"
   ]
  },
  {
   "cell_type": "code",
   "execution_count": null,
   "metadata": {
    "pycharm": {
     "name": "#%%\n",
     "is_executing": true
    }
   },
   "outputs": [],
   "source": [
    "cph.predict_survival_function(small_test).plot()"
   ]
  },
  {
   "cell_type": "code",
   "execution_count": null,
   "metadata": {
    "pycharm": {
     "name": "#%%\n",
     "is_executing": true
    }
   },
   "outputs": [],
   "source": [
    "attr_data.sample(10)"
   ]
  }
 ],
 "metadata": {
  "kernelspec": {
   "display_name": "Python 3 (ipykernel)",
   "language": "python",
   "name": "python3"
  },
  "language_info": {
   "codemirror_mode": {
    "name": "ipython",
    "version": 3
   },
   "file_extension": ".py",
   "mimetype": "text/x-python",
   "name": "python",
   "nbconvert_exporter": "python",
   "pygments_lexer": "ipython3",
   "version": "3.7.13"
  }
 },
 "nbformat": 4,
 "nbformat_minor": 1
}

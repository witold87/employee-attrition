{
 "cells": [
  {
   "cell_type": "code",
   "execution_count": 1,
   "metadata": {
    "pycharm": {
     "name": "#%%\n"
    }
   },
   "outputs": [],
   "source": [
    "%matplotlib inline\n",
    "%load_ext autoreload\n",
    "%reload_ext autoreload\n",
    "import warnings\n",
    "import numpy as np\n",
    "import pandas as pd\n",
    "from sklearn.model_selection import GridSearchCV\n",
    "import joblib, uuid\n",
    "\n",
    "warnings.filterwarnings(\"ignore\")"
   ]
  },
  {
   "cell_type": "code",
   "execution_count": null,
   "metadata": {
    "pycharm": {
     "name": "#%%\n"
    }
   },
   "outputs": [],
   "source": [
    "from v2.data_transformers.SurvivalAttritionTrsTransformer import SurvivalAttritionTrsTransformer\n",
    "\n",
    "month = '10'\n",
    "# 7/8/10 -> 31.#\n",
    "report_date = f'2022-{month}-31'\n",
    "\n",
    "input_paths = {\n",
    "    'data': f'<path_to_file>.2022.csv',\n",
    "    'training': f'<path_to_file>.csv',\n",
    "}\n",
    "\n",
    "outputh_paths = {\n",
    "    'general':'<output_path>'\n",
    "}\n",
    "\n",
    "cleanup = False\n",
    "transformer = SurvivalAttritionTrsTransformer(path_to_data=input_paths['data'],\n",
    "                                                 training_data_path=input_paths['training'],\n",
    "                                                 predict=False,\n",
    "                                                 cleanup=False)\n",
    "\n",
    "data = transformer.prepare_data_for_attrition_prediction(min_date='01.01.2018')"
   ]
  },
  {
   "cell_type": "code",
   "execution_count": 49,
   "metadata": {
    "pycharm": {
     "name": "#%%\n"
    }
   },
   "outputs": [],
   "source": [
    "from dateutil import relativedelta\n",
    "\n",
    "\n",
    "def calc_2(x, y):\n",
    "    delta = relativedelta.relativedelta(x, y)\n",
    "    return delta.months\n",
    "\n",
    "\n",
    "def calc_month_before_termination(data):\n",
    "    data['months_before_termination'] = ((data['max_date'] - data['report_date_dt']) / np.timedelta64(1, 'M'))\n",
    "    data['months_before_termination'] = data['months_before_termination'].apply(lambda x: round(x))\n",
    "    return data\n",
    "\n",
    "\n",
    "def calc_month_of_work(data):\n",
    "    # todo fix this calculation\n",
    "    data['months_of_work'] = ((data['report_date_dt'] - data['start_date_dt']) / np.timedelta64(1, 'M'))\n",
    "    data['months_of_work'] = data['months_of_work'].apply(lambda x: round(x))\n",
    "    return data\n",
    "\n",
    "\n",
    "def calculate_risk(x):\n",
    "    if x <= 2:\n",
    "        return 1\n",
    "    else:\n",
    "        return 0\n",
    "\n",
    "def set_sample(x, y, intervals: int = 2):\n",
    "    if x == 1:  # always take high risk periods\n",
    "        return True\n",
    "\n",
    "    #     if x == np.nan: # those are mid-periods we shouldn't consider\n",
    "    #         return False\n",
    "\n",
    "    if x == 0:  # low risk periods\n",
    "        if y % intervals == 0:\n",
    "            return True\n",
    "        else:\n",
    "            return False\n",
    "\n",
    "def is_on_bench(x, y):\n",
    "    # x = project, y = client\n",
    "    x = x.lower()\n",
    "    y = y.lower()\n",
    "    if 'bench' in x or 'bench' in y:\n",
    "        return 1\n",
    "    elif 'internal' in y:\n",
    "        return 1\n",
    "    else:\n",
    "        return 0\n",
    "\n",
    "def avg_time_per_project(tenure, nth_project):\n",
    "    return tenure / nth_project\n",
    "\n",
    "\n",
    "def set_prob_period(x):\n",
    "    if x < 3:\n",
    "        return True\n",
    "    else:\n",
    "        return False\n",
    "\n",
    "\n",
    "def get_tenure(x, y):\n",
    "    months_of_empl = (y - x) / np.timedelta64(1, 'M')\n",
    "    return months_of_empl / 12\n",
    "\n",
    "def is_covid_employment(start_date):\n",
    "    import datetime\n",
    "    covid_start = datetime.datetime.strptime('20-03-2020', '%d-%m-%Y')\n",
    "    covid_end = datetime.datetime.strptime('13-05-2022', '%d-%m-%Y')\n",
    "    if covid_start < start_date < covid_end:\n",
    "        return 1\n",
    "    else:\n",
    "        return 0\n",
    "\n",
    "def get_time_to_event(date_column, event_column):\n",
    "    return (risky[date_column] - risky.groupby(['unique_id', risky[event_column].eq(1).cumsum()])[date_column].transform(\"min\"))/np.timedelta64(1, 'M')"
   ]
  },
  {
   "cell_type": "code",
   "execution_count": 50,
   "metadata": {
    "pycharm": {
     "name": "#%%\n"
    }
   },
   "outputs": [],
   "source": [
    "data = calc_month_before_termination(data)\n",
    "data = calc_month_of_work(data)"
   ]
  },
  {
   "cell_type": "code",
   "execution_count": 51,
   "metadata": {
    "pycharm": {
     "name": "#%%\n"
    }
   },
   "outputs": [],
   "source": [
    "risky = data.copy()"
   ]
  },
  {
   "cell_type": "code",
   "execution_count": 52,
   "metadata": {
    "pycharm": {
     "name": "#%%\n"
    }
   },
   "outputs": [],
   "source": [
    "risky.drop(['sampling', 'months_of_work', 'diff'], inplace=True, axis=1, errors='ignore')"
   ]
  },
  {
   "cell_type": "code",
   "execution_count": 53,
   "metadata": {
    "pycharm": {
     "name": "#%%\n"
    }
   },
   "outputs": [],
   "source": [
    "risky['current project'].astype(str)\n",
    "risky['client'].astype(str)\n",
    "risky['current project'].fillna('No data', inplace=True)\n",
    "risky['client'].fillna('No data', inplace=True)\n",
    "risky['is_on_bench'] = risky.apply(lambda x: is_on_bench(x['current project'], x['client']), axis=1)"
   ]
  },
  {
   "cell_type": "code",
   "execution_count": 54,
   "metadata": {
    "pycharm": {
     "name": "#%%\n"
    }
   },
   "outputs": [],
   "source": [
    "risky['tenure'] = risky.apply(lambda x: get_tenure(x['start_date_dt'], x['report_date_dt']), axis=1)"
   ]
  },
  {
   "cell_type": "code",
   "execution_count": 55,
   "metadata": {
    "pycharm": {
     "name": "#%%\n"
    }
   },
   "outputs": [],
   "source": [
    "risky['is_covid_employment'] = risky['start_date_dt'].apply(is_covid_employment)"
   ]
  },
  {
   "cell_type": "code",
   "execution_count": 56,
   "metadata": {
    "pycharm": {
     "name": "#%% todo one function with dynamic column names\n"
    }
   },
   "outputs": [],
   "source": [
    "risky.sort_values(['unique_id', 'report_date_dt'], inplace=True)\n",
    "risky['was_promoted'] = risky.groupby('unique_id').apply(\n",
    "    lambda group: group['grade'] != group['grade'].shift(1)).tolist()\n",
    "risky['was_promoted'] = risky['was_promoted'].map({True: 1, False: 0})\n",
    "risky.loc[risky.groupby('unique_id').head(1).index, 'was_promoted'] = 1"
   ]
  },
  {
   "cell_type": "code",
   "execution_count": 57,
   "metadata": {
    "pycharm": {
     "name": "#%%\n"
    }
   },
   "outputs": [],
   "source": [
    "risky['project_changed'] = risky.groupby('unique_id').apply(\n",
    "    lambda group: group['current project'] != group['current project'].shift(1)).tolist()\n",
    "risky['project_changed'] = risky['project_changed'].map({True: 1, False: 0})\n",
    "risky.loc[risky.groupby('unique_id').head(1).index, 'project_changed'] = 0"
   ]
  },
  {
   "cell_type": "code",
   "execution_count": 58,
   "metadata": {
    "pycharm": {
     "name": "#%%\n"
    }
   },
   "outputs": [],
   "source": [
    "risky['account_changed'] = risky.groupby('unique_id').apply(\n",
    "    lambda group: group['client'] != group['client'].shift(1)).tolist()\n",
    "risky['account_changed'] = risky['account_changed'].map({True: 1, False: 0})\n",
    "risky.loc[risky.groupby('unique_id').head(1).index, 'account_changed'] = 0"
   ]
  },
  {
   "cell_type": "code",
   "execution_count": 59,
   "outputs": [],
   "source": [
    "risky[\"time_since_promo_in_months\"] = get_time_to_event(date_column='report_date_dt', event_column='was_promoted')\n",
    "risky[\"time_since_project_change_in_months\"] = get_time_to_event(date_column='report_date_dt', event_column='project_changed')\n",
    "risky[\"time_since_account_change_in_months\"] = get_time_to_event(date_column='report_date_dt', event_column='account_changed')\n",
    "risky[\"time_since_bench_in_months\"] = get_time_to_event(date_column='report_date_dt', event_column='is_on_bench')\n",
    "risky[\"time_since_training_in_months\"] = get_time_to_event(date_column='report_date_dt', event_column='has_training')"
   ],
   "metadata": {
    "collapsed": false,
    "pycharm": {
     "name": "#%%\n"
    }
   }
  },
  {
   "cell_type": "code",
   "execution_count": 60,
   "metadata": {
    "pycharm": {
     "name": "#%%\n"
    }
   },
   "outputs": [],
   "source": [
    "risky.sort_values(['unique_id', 'report_date_dt'], inplace=True)\n",
    "risky['bench_cumsum'] = risky.groupby(['unique_id'])['is_on_bench'].cumsum()"
   ]
  },
  {
   "cell_type": "code",
   "execution_count": 61,
   "metadata": {
    "pycharm": {
     "name": "#%%\n"
    }
   },
   "outputs": [],
   "source": [
    "risky['bench_to_tenure'] = risky.apply(lambda x: (x['bench_cumsum'] / 12) / x['tenure'], axis=1)"
   ]
  },
  {
   "cell_type": "code",
   "execution_count": 62,
   "metadata": {
    "pycharm": {
     "name": "#%%\n"
    }
   },
   "outputs": [],
   "source": [
    "risky['nth_project'] = risky.groupby(['unique_id'])[\n",
    "                           'project_changed'].cumsum() + 1  # +1 beacuse it is reflecting the changes."
   ]
  },
  {
   "cell_type": "code",
   "execution_count": 63,
   "outputs": [],
   "source": [
    "risky['avg_time_per_project'] = risky.apply(lambda x : avg_time_per_project(x['tenure'], x['nth_project']), axis=1)"
   ],
   "metadata": {
    "collapsed": false,
    "pycharm": {
     "name": "#%%\n"
    }
   }
  },
  {
   "cell_type": "code",
   "execution_count": 64,
   "metadata": {
    "pycharm": {
     "name": "#%%\n"
    }
   },
   "outputs": [],
   "source": [
    "risky.drop(['months_before_termination', 'months_of_work', 'grade', 'mapped_source', 'report_date',\n",
    "            'bench_cumsum',\n",
    "            'diff', 'initial_grade', 'max_report_date_all', 'max_date', 'technology', 'start_date_dt',\n",
    "            'report_date_dt', 'Jjob family', 'source', 'status', 'division', 'technology', 'start date',\n",
    "            'office location', 'contract type', 'client', 'current project', 'new_job_family', 'name', 'surname', 'grade', 'last_project', 'last_client', 'mapped_project', 'mapped_client', 'has_training'\n",
    "            'is_on_bench', 'was_promoted', 'project_changed', 'account_changed'], axis=1, inplace=True,\n",
    "           errors='ignore')\n",
    "risky.drop(['has_training', 'is_on_bench'], axis=1, inplace=True,\n",
    "           errors='ignore')"
   ]
  },
  {
   "cell_type": "code",
   "execution_count": 65,
   "outputs": [
    {
     "name": "stdout",
     "output_type": "stream",
     "text": [
      "(44840, 22)\n",
      "Index(['sap id', 'employee', 'unique_id', 'mapped_grade',\n",
      "       'contract type_Contract', 'contract type_Permanent',\n",
      "       'contract type_Sub-contract', 'contract type_Zlecenie', 'left',\n",
      "       'office_location_prob_ratio', 'technology_prob_ratio',\n",
      "       'mapped_client_prob_ratio', 'tenure', 'is_covid_employment',\n",
      "       'time_since_promo_in_months', 'time_since_project_change_in_months',\n",
      "       'time_since_account_change_in_months', 'time_since_bench_in_months',\n",
      "       'time_since_training_in_months', 'bench_to_tenure', 'nth_project',\n",
      "       'avg_time_per_project'],\n",
      "      dtype='object')\n",
      "(44840, 22)\n",
      "Index(['sap id', 'employee', 'unique_id', 'mapped_grade',\n",
      "       'contract type_Contract', 'contract type_Permanent',\n",
      "       'contract type_Sub-contract', 'contract type_Zlecenie', 'left',\n",
      "       'office_location_prob_ratio', 'technology_prob_ratio',\n",
      "       'mapped_client_prob_ratio', 'tenure', 'is_covid_employment',\n",
      "       'time_since_promo_in_months', 'time_since_project_change_in_months',\n",
      "       'time_since_account_change_in_months', 'time_since_bench_in_months',\n",
      "       'time_since_training_in_months', 'bench_to_tenure', 'nth_project',\n",
      "       'avg_time_per_project'],\n",
      "      dtype='object')\n"
     ]
    }
   ],
   "source": [
    "print(risky.shape)\n",
    "print(risky.columns)"
   ],
   "metadata": {
    "collapsed": false,
    "pycharm": {
     "name": "#%%\n"
    }
   }
  },
  {
   "cell_type": "code",
   "execution_count": 67,
   "outputs": [],
   "source": [
    "data = data[data['left'] == 0]"
   ],
   "metadata": {
    "collapsed": false,
    "pycharm": {
     "name": "#%%\n"
    }
   }
  },
  {
   "cell_type": "code",
   "execution_count": 68,
   "outputs": [],
   "source": [
    "data = risky.drop_duplicates(subset=['unique_id'], keep='last')"
   ],
   "metadata": {
    "collapsed": false,
    "pycharm": {
     "name": "#%%\n"
    }
   }
  },
  {
   "cell_type": "code",
   "execution_count": 69,
   "outputs": [],
   "source": [
    "idx = data.index\n",
    "emp_mapper = pd.DataFrame({'idx': idx,\n",
    "                           'employee': data['employee'],\n",
    "                           'churned': data['left'],\n",
    "                           'tenure': data['tenure']})"
   ],
   "metadata": {
    "collapsed": false,
    "pycharm": {
     "name": "#%%\n"
    }
   }
  },
  {
   "cell_type": "code",
   "execution_count": null,
   "outputs": [],
   "source": [
    "data.drop(['employee', 'unique_id'], axis=1, inplace=True)\n",
    "\n",
    "emp_mapper.head()"
   ],
   "metadata": {
    "collapsed": false,
    "pycharm": {
     "name": "#%%\n"
    }
   }
  },
  {
   "cell_type": "code",
   "execution_count": 73,
   "outputs": [],
   "source": [
    "from sksurv.ensemble import RandomSurvivalForest\n",
    "import matplotlib.pyplot as plt\n",
    "import joblib"
   ],
   "metadata": {
    "collapsed": false,
    "pycharm": {
     "name": "#%%\n"
    }
   }
  },
  {
   "cell_type": "markdown",
   "source": [
    "# Load Model"
   ],
   "metadata": {
    "collapsed": false,
    "pycharm": {
     "name": "#%% md\n"
    }
   }
  },
  {
   "cell_type": "code",
   "execution_count": 74,
   "outputs": [],
   "source": [
    "model_file = f'models/surv_model_ff8a154a-7e90-40dc-90e5-c07d8da9344e.joblib'\n",
    "\n",
    "with open(model_file, 'rb') as file:\n",
    "    model = joblib.load(file)"
   ],
   "metadata": {
    "collapsed": false,
    "pycharm": {
     "name": "#%%\n"
    }
   }
  },
  {
   "cell_type": "code",
   "execution_count": 75,
   "outputs": [],
   "source": [
    "idx_range = list(range(0, data.shape[0]))"
   ],
   "metadata": {
    "collapsed": false,
    "pycharm": {
     "name": "#%%\n"
    }
   }
  },
  {
   "cell_type": "code",
   "execution_count": 76,
   "outputs": [],
   "source": [
    "idx = data.index\n",
    "mapping ={}\n",
    "\n",
    "for key, value in zip(idx_range, idx):\n",
    "    mapping[key] = value"
   ],
   "metadata": {
    "collapsed": false,
    "pycharm": {
     "name": "#%%\n"
    }
   }
  },
  {
   "cell_type": "code",
   "execution_count": null,
   "outputs": [],
   "source": [
    "emp_mapper.loc[mapping[384]]"
   ],
   "metadata": {
    "collapsed": false,
    "pycharm": {
     "name": "#%%\n"
    }
   }
  },
  {
   "cell_type": "code",
   "execution_count": 78,
   "outputs": [],
   "source": [
    "data.drop(['contract type_Sub-contract', 'contract type_Zlecenie', 'left', 'sap id'], axis=1, inplace=True)"
   ],
   "metadata": {
    "collapsed": false,
    "pycharm": {
     "name": "#%%\n"
    }
   }
  },
  {
   "cell_type": "code",
   "execution_count": 79,
   "outputs": [],
   "source": [
    "surv = model.predict_survival_function(data, return_array=True)"
   ],
   "metadata": {
    "collapsed": false,
    "pycharm": {
     "name": "#%%\n"
    }
   }
  },
  {
   "cell_type": "markdown",
   "source": [
    "## Transform output data"
   ],
   "metadata": {
    "collapsed": false,
    "pycharm": {
     "name": "#%% md\n"
    }
   }
  },
  {
   "cell_type": "code",
   "execution_count": 80,
   "outputs": [],
   "source": [
    "def get_current_data_point(model, tenure:float, data_points_density: int = 10):  # we take every 10th data point (~ 5 months)\n",
    "    evt_times = model.event_times_\n",
    "    evt_times = pd.DataFrame(evt_times, columns=['time'])\n",
    "    #evt_times = evt_times.iloc[::data_points_density, :]\n",
    "    current_time_point = evt_times.iloc[(evt_times['time'] - tenure).abs().argsort()[:1]]\n",
    "    related_data_point = current_time_point.index.values[0]\n",
    "    return related_data_point\n",
    "\n",
    "def get_survival_probability(survival_func_result, employee_index, data_point, data_points_density:int = 10):\n",
    "\n",
    "    df_surv = pd.DataFrame(survival_func_result)\n",
    "    #df_surv = df_surv[df_surv.columns[::data_points_density]]\n",
    "\n",
    "    max_data_point = df_surv.iloc[: , -1].name\n",
    "\n",
    "    churn_prob_now = 1 - df_surv.loc[df_surv.index[employee_index], data_point]\n",
    "    future_data_point = data_point + data_points_density\n",
    "    if future_data_point > max_data_point:\n",
    "        future_data_point = max_data_point\n",
    "    churn_prob_in_future = 1 - df_surv.loc[df_surv.index[employee_index], future_data_point]\n",
    "    return (churn_prob_now, churn_prob_in_future)\n"
   ],
   "metadata": {
    "collapsed": false,
    "pycharm": {
     "name": "#%%\n"
    }
   }
  },
  {
   "cell_type": "code",
   "execution_count": 81,
   "outputs": [],
   "source": [
    "test_data = data.copy(deep=True)"
   ],
   "metadata": {
    "collapsed": false,
    "pycharm": {
     "name": "#%%\n"
    }
   }
  },
  {
   "cell_type": "code",
   "execution_count": 82,
   "outputs": [],
   "source": [
    "test_data.reset_index(inplace=True)\n",
    "test_data.rename(columns={'index': 'idx'}, inplace=True)"
   ],
   "metadata": {
    "collapsed": false,
    "pycharm": {
     "name": "#%%\n"
    }
   }
  },
  {
   "cell_type": "code",
   "execution_count": 84,
   "outputs": [],
   "source": [
    "test_data['current_data_point'] = test_data.apply(lambda x: get_current_data_point(model, x['tenure']), axis=1)\n",
    "test_data['probabilities'] = test_data.apply(lambda x: get_survival_probability(surv, x.name, x['current_data_point']), axis=1)\n",
    "prediction_data = test_data[['idx', 'probabilities', 'current_data_point', 'tenure']]"
   ],
   "metadata": {
    "collapsed": false,
    "pycharm": {
     "name": "#%%\n"
    }
   }
  },
  {
   "cell_type": "code",
   "execution_count": 85,
   "outputs": [],
   "source": [
    "mapper = emp_mapper[['employee', 'idx']]"
   ],
   "metadata": {
    "collapsed": false,
    "pycharm": {
     "name": "#%%\n"
    }
   }
  },
  {
   "cell_type": "code",
   "execution_count": 86,
   "outputs": [],
   "source": [
    "prediction_data = prediction_data.merge(mapper, on='idx')\n",
    "prediction_data['report_date'] = report_date"
   ],
   "metadata": {
    "collapsed": false,
    "pycharm": {
     "name": "#%%\n"
    }
   }
  },
  {
   "cell_type": "code",
   "execution_count": null,
   "outputs": [],
   "source": [
    "prediction_data[['risk_t0', 'risk_t5']] = pd.DataFrame(prediction_data['probabilities'].tolist(), index=prediction_data.index)\n",
    "prediction_data = prediction_data.drop(['probabilities'], axis=1)\n",
    "prediction_data"
   ],
   "metadata": {
    "collapsed": false,
    "pycharm": {
     "name": "#%%\n"
    }
   }
  },
  {
   "cell_type": "code",
   "execution_count": 88,
   "outputs": [
    {
     "name": "stdout",
     "output_type": "stream",
     "text": [
      "(7683, 13)\n",
      "(7683, 13)\n"
     ]
    }
   ],
   "source": [
    "append_with_survival = True\n",
    "save = False\n",
    "\n",
    "if append_with_survival:\n",
    "    existing_pred_file = 'all_predictions_grade.xlsx'\n",
    "    d = pd.read_excel(existing_pred_file)\n",
    "    d = d.merge(prediction_data, left_on=['employee', 'inference_date'], right_on=['employee', 'report_date'], how='left')\n",
    "    d = d.drop(['Unnamed: 0', 'report_date', 'idx'], axis=1)\n",
    "    if save:\n",
    "        d.to_excel('all_predictions_grade.xlsx')\n",
    "    print(d.shape)"
   ],
   "metadata": {
    "collapsed": false,
    "pycharm": {
     "name": "#%%\n"
    }
   }
  },
  {
   "cell_type": "code",
   "execution_count": 109,
   "outputs": [],
   "source": [
    "surv = model.predict_survival_function(data, return_array=True)"
   ],
   "metadata": {
    "collapsed": false,
    "pycharm": {
     "name": "#%%\n"
    }
   }
  },
  {
   "cell_type": "code",
   "execution_count": 116,
   "outputs": [
    {
     "data": {
      "text/plain": "           0         1         2         3         4        5        6    \\\n1392  0.999513  0.999513  0.999513  0.999513  0.999513  0.99899  0.99813   \n\n          7        8        9    ...       327       328       329      330  \\\n1392  0.99813  0.99813  0.99813  ...  0.519599  0.515158  0.507496  0.50633   \n\n           331       332       333       334       335       336  \n1392  0.499062  0.498085  0.471235  0.462839  0.459322  0.386281  \n\n[1 rows x 337 columns]",
      "text/html": "<div>\n<style scoped>\n    .dataframe tbody tr th:only-of-type {\n        vertical-align: middle;\n    }\n\n    .dataframe tbody tr th {\n        vertical-align: top;\n    }\n\n    .dataframe thead th {\n        text-align: right;\n    }\n</style>\n<table border=\"1\" class=\"dataframe\">\n  <thead>\n    <tr style=\"text-align: right;\">\n      <th></th>\n      <th>0</th>\n      <th>1</th>\n      <th>2</th>\n      <th>3</th>\n      <th>4</th>\n      <th>5</th>\n      <th>6</th>\n      <th>7</th>\n      <th>8</th>\n      <th>9</th>\n      <th>...</th>\n      <th>327</th>\n      <th>328</th>\n      <th>329</th>\n      <th>330</th>\n      <th>331</th>\n      <th>332</th>\n      <th>333</th>\n      <th>334</th>\n      <th>335</th>\n      <th>336</th>\n    </tr>\n  </thead>\n  <tbody>\n    <tr>\n      <th>1392</th>\n      <td>0.999513</td>\n      <td>0.999513</td>\n      <td>0.999513</td>\n      <td>0.999513</td>\n      <td>0.999513</td>\n      <td>0.99899</td>\n      <td>0.99813</td>\n      <td>0.99813</td>\n      <td>0.99813</td>\n      <td>0.99813</td>\n      <td>...</td>\n      <td>0.519599</td>\n      <td>0.515158</td>\n      <td>0.507496</td>\n      <td>0.50633</td>\n      <td>0.499062</td>\n      <td>0.498085</td>\n      <td>0.471235</td>\n      <td>0.462839</td>\n      <td>0.459322</td>\n      <td>0.386281</td>\n    </tr>\n  </tbody>\n</table>\n<p>1 rows × 337 columns</p>\n</div>"
     },
     "execution_count": 116,
     "metadata": {},
     "output_type": "execute_result"
    }
   ],
   "source": [
    "idx = 1392\n",
    "\n",
    "survival_single = pd.DataFrame(surv)\n",
    "survival_single = survival_single[survival_single.index == idx]\n"
   ],
   "metadata": {
    "collapsed": false,
    "pycharm": {
     "name": "#%%\n"
    }
   }
  },
  {
   "cell_type": "code",
   "execution_count": null,
   "outputs": [],
   "source": [
    "name = emp_mapper.loc[mapping[idx], 'employee']\n",
    "\n",
    "plt.step(model.event_times_, survival_single, where=\"post\", label=str(name))\n",
    "plt.ylabel(\"Survival probability\")\n",
    "plt.xlabel(\"Time in years\")\n",
    "plt.legend()\n",
    "plt.grid(True)"
   ],
   "metadata": {
    "collapsed": false,
    "pycharm": {
     "name": "#%%\n"
    }
   }
  },
  {
   "cell_type": "code",
   "execution_count": 108,
   "outputs": [
    {
     "data": {
      "text/plain": "            0\n0    0.999513\n1    0.999513\n2    0.999513\n3    0.999513\n4    0.999513\n..        ...\n332  0.498085\n333  0.471235\n334  0.462839\n335  0.459322\n336  0.386281\n\n[337 rows x 1 columns]",
      "text/html": "<div>\n<style scoped>\n    .dataframe tbody tr th:only-of-type {\n        vertical-align: middle;\n    }\n\n    .dataframe tbody tr th {\n        vertical-align: top;\n    }\n\n    .dataframe thead th {\n        text-align: right;\n    }\n</style>\n<table border=\"1\" class=\"dataframe\">\n  <thead>\n    <tr style=\"text-align: right;\">\n      <th></th>\n      <th>0</th>\n    </tr>\n  </thead>\n  <tbody>\n    <tr>\n      <th>0</th>\n      <td>0.999513</td>\n    </tr>\n    <tr>\n      <th>1</th>\n      <td>0.999513</td>\n    </tr>\n    <tr>\n      <th>2</th>\n      <td>0.999513</td>\n    </tr>\n    <tr>\n      <th>3</th>\n      <td>0.999513</td>\n    </tr>\n    <tr>\n      <th>4</th>\n      <td>0.999513</td>\n    </tr>\n    <tr>\n      <th>...</th>\n      <td>...</td>\n    </tr>\n    <tr>\n      <th>332</th>\n      <td>0.498085</td>\n    </tr>\n    <tr>\n      <th>333</th>\n      <td>0.471235</td>\n    </tr>\n    <tr>\n      <th>334</th>\n      <td>0.462839</td>\n    </tr>\n    <tr>\n      <th>335</th>\n      <td>0.459322</td>\n    </tr>\n    <tr>\n      <th>336</th>\n      <td>0.386281</td>\n    </tr>\n  </tbody>\n</table>\n<p>337 rows × 1 columns</p>\n</div>"
     },
     "execution_count": 108,
     "metadata": {},
     "output_type": "execute_result"
    }
   ],
   "source": [
    "surv = pd.DataFrame(surv)\n",
    "surv"
   ],
   "metadata": {
    "collapsed": false,
    "pycharm": {
     "name": "#%%\n"
    }
   }
  },
  {
   "cell_type": "markdown",
   "source": [
    "# POST PRED OPERATIONS"
   ],
   "metadata": {
    "collapsed": false,
    "pycharm": {
     "name": "#%% md\n"
    }
   }
  },
  {
   "cell_type": "code",
   "execution_count": 5,
   "outputs": [],
   "source": [
    "data = pd.read_excel('all_predictions_grade.xlsx', index_col=0)"
   ],
   "metadata": {
    "collapsed": false,
    "pycharm": {
     "name": "#%%\n"
    }
   }
  },
  {
   "cell_type": "code",
   "execution_count": 6,
   "outputs": [
    {
     "data": {
      "text/plain": "Index(['employee', 'account', 'grade', 'inference_date', 'at_risk',\n       'probability', 'risk_bucket', 'risk_t0', 'risk_t5'],\n      dtype='object')"
     },
     "execution_count": 6,
     "metadata": {},
     "output_type": "execute_result"
    }
   ],
   "source": [
    "data.columns"
   ],
   "metadata": {
    "collapsed": false,
    "pycharm": {
     "name": "#%%\n"
    }
   }
  },
  {
   "cell_type": "code",
   "execution_count": 7,
   "outputs": [],
   "source": [
    "def get_risk_bucket(x):\n",
    "    if x <= 0.5:\n",
    "        return 'no risk'\n",
    "    elif x <= 0.7:\n",
    "        return 'low risk'\n",
    "    elif x <= 0.8:\n",
    "        return 'moderate risk'\n",
    "    elif x <= 0.9:\n",
    "        return 'high risk'\n",
    "    else:\n",
    "        return 'very high risk'\n",
    "\n",
    "def surv_calculate_change(risk_t0, risk_t5):\n",
    "    change = 1 # increase or decrease in terms of change\n",
    "    if risk_t5 < risk_t0:\n",
    "        change = -1\n",
    "\n",
    "    diff = risk_t5 - risk_t0\n",
    "    return (diff / risk_t0) * 100 * change\n"
   ],
   "metadata": {
    "collapsed": false,
    "pycharm": {
     "name": "#%%\n"
    }
   }
  },
  {
   "cell_type": "code",
   "execution_count": null,
   "outputs": [],
   "source": [
    "data[\"survival_mean_risk\"] = data.loc[:, ['risk_t0','risk_t5']].mean(axis = 1)\n",
    "data"
   ],
   "metadata": {
    "collapsed": false,
    "pycharm": {
     "name": "#%%\n"
    }
   }
  },
  {
   "cell_type": "code",
   "execution_count": null,
   "outputs": [],
   "source": [
    "data['survival_change_in_perc'] = data.apply(lambda x: surv_calculate_change(x['risk_t0'], x['risk_t5']), axis=1)\n",
    "data"
   ],
   "metadata": {
    "collapsed": false,
    "pycharm": {
     "name": "#%%\n"
    }
   }
  },
  {
   "cell_type": "code",
   "execution_count": 10,
   "outputs": [],
   "source": [
    "from v2.db.db_helper import connect_to_db, select_test\n",
    "engine = connect_to_db()"
   ],
   "metadata": {
    "collapsed": false,
    "pycharm": {
     "name": "#%%\n"
    }
   }
  },
  {
   "cell_type": "code",
   "execution_count": 11,
   "outputs": [],
   "source": [
    "schema = 'public'\n",
    "table = 'predictions'"
   ],
   "metadata": {
    "collapsed": false,
    "pycharm": {
     "name": "#%%\n"
    }
   }
  },
  {
   "cell_type": "code",
   "execution_count": 13,
   "outputs": [],
   "source": [
    "data.to_sql(table, con=engine, if_exists='append', schema=schema)"
   ],
   "metadata": {
    "collapsed": false,
    "pycharm": {
     "name": "#%%\n"
    }
   }
  },
  {
   "cell_type": "markdown",
   "source": [
    "# Survival validation"
   ],
   "metadata": {
    "collapsed": false,
    "pycharm": {
     "name": "#%% md\n"
    }
   }
  },
  {
   "cell_type": "code",
   "execution_count": 15,
   "outputs": [],
   "source": [
    "# FILTERING OPTIONS\n",
    "validate_data = True\n",
    "account_filter = False\n",
    "grade_filter = False\n",
    "chosen_account = 'acc'\n",
    "\n",
    "def filter_by_account(data, chosen_account):\n",
    "    # possible triming on account name and lowering case\n",
    "    if chosen_account != 'all':\n",
    "        filtered_df = data['account'].str.contains(f'{chosen_account}')\n",
    "        # data[data['account'] == chosen_account]\n",
    "        return data[filtered_df]\n",
    "\n",
    "def filter_by_grade(x):\n",
    "    excluded_grades = ['L6', 'L7']\n",
    "    if x in excluded_grades:\n",
    "        return False\n",
    "    else:\n",
    "        return True"
   ],
   "metadata": {
    "collapsed": false,
    "pycharm": {
     "name": "#%%\n"
    }
   }
  },
  {
   "cell_type": "code",
   "execution_count": 16,
   "outputs": [],
   "source": [
    "# GET PEOPLE WHO LEFT - LESS THAN X PRED POINTS\n",
    "n_preds = 7\n",
    "if validate_data:\n",
    "    data = data.groupby(['employee']).filter(lambda x: len(x) < n_preds)\n",
    "    data = data.groupby(['employee']).filter(lambda x: x['inference_date'].head(1) == '2022-06-30')\n",
    "    data = data.groupby(['employee']).filter(lambda x: x['inference_date'].tail(1) != '2022-12-30')\n",
    "    data = data.drop_duplicates(subset=['employee'], keep='last')"
   ],
   "metadata": {
    "collapsed": false,
    "pycharm": {
     "name": "#%%\n"
    }
   }
  },
  {
   "cell_type": "code",
   "execution_count": 17,
   "outputs": [],
   "source": [
    "if account_filter:\n",
    "    data = filter_by_account(data, chosen_account)"
   ],
   "metadata": {
    "collapsed": false,
    "pycharm": {
     "name": "#%%\n"
    }
   }
  },
  {
   "cell_type": "markdown",
   "source": [
    "### filter by grade"
   ],
   "metadata": {
    "collapsed": false,
    "pycharm": {
     "name": "#%% md\n"
    }
   }
  },
  {
   "cell_type": "code",
   "execution_count": 18,
   "outputs": [],
   "source": [
    "if grade_filter:\n",
    "    data['to_show'] = data['grade'].apply(filter_by_grade)\n",
    "    data['to_show'].value_counts()\n",
    "    data = data[data['to_show'] == True]\n",
    "    data = data.drop(['to_show'], axis=1)"
   ],
   "metadata": {
    "collapsed": false,
    "pycharm": {
     "name": "#%%\n"
    }
   }
  },
  {
   "cell_type": "code",
   "execution_count": 24,
   "outputs": [
    {
     "data": {
      "text/plain": "<AxesSubplot:ylabel='Frequency'>"
     },
     "execution_count": 24,
     "metadata": {},
     "output_type": "execute_result"
    },
    {
     "data": {
      "text/plain": "<Figure size 640x480 with 1 Axes>",
      "image/png": "[encoded data removed]"
     },
     "metadata": {},
     "output_type": "display_data"
    }
   ],
   "source": [
    "data['survival_change_in_perc'].plot(kind='hist')"
   ],
   "metadata": {
    "collapsed": false,
    "pycharm": {
     "name": "#%%\n"
    }
   }
  },
  {
   "cell_type": "code",
   "execution_count": 35,
   "outputs": [],
   "source": [
    "def get_even_buckets(x):\n",
    "    if x < 10: return 'A<10'\n",
    "    elif x < 20: return 'B10-20'\n",
    "    elif x < 30: return 'C20-30'\n",
    "    elif x < 40: return 'D30-40'\n",
    "    elif x < 50: return 'E40-50'\n",
    "    elif x < 60: return 'F50-60'\n",
    "    elif x < 70: return 'G60-70'\n",
    "    elif x < 80: return 'H70-80'\n",
    "    elif x < 90: return 'I80-90'\n",
    "    elif x < 100: return 'J90-100'\n",
    "    else: return 'K> 100'"
   ],
   "metadata": {
    "collapsed": false,
    "pycharm": {
     "name": "#%%\n"
    }
   }
  },
  {
   "cell_type": "code",
   "execution_count": 38,
   "outputs": [
    {
     "data": {
      "text/plain": "<AxesSubplot:>"
     },
     "execution_count": 38,
     "metadata": {},
     "output_type": "execute_result"
    },
    {
     "data": {
      "text/plain": "<Figure size 640x480 with 1 Axes>",
      "image/png": "[encoded data removed]"
     },
     "metadata": {},
     "output_type": "display_data"
    }
   ],
   "source": [
    "data['change_bucket_even'] = data['survival_change_in_perc'].apply(get_even_buckets)\n",
    "data['change_bucket_even'].value_counts(normalize = True).sort_index(ascending=True).plot(kind = 'bar')\n"
   ],
   "metadata": {
    "collapsed": false,
    "pycharm": {
     "name": "#%%\n"
    }
   }
  },
  {
   "cell_type": "code",
   "execution_count": 20,
   "outputs": [],
   "source": [
    "def get_buckets_survival_risk_change(surv_risk_change):\n",
    "    if surv_risk_change < 20:\n",
    "        return 'small change'\n",
    "    elif surv_risk_change < 40:\n",
    "        return 'medium change'\n",
    "    elif surv_risk_change < 60:\n",
    "        return 'big change'\n",
    "    else:\n",
    "        return 'very big change'"
   ],
   "metadata": {
    "collapsed": false,
    "pycharm": {
     "name": "#%%\n"
    }
   }
  },
  {
   "cell_type": "code",
   "execution_count": 21,
   "outputs": [
    {
     "data": {
      "text/plain": "medium change      46\nsmall change       40\nvery big change    24\nbig change         23\nName: bucket_change, dtype: int64"
     },
     "execution_count": 21,
     "metadata": {},
     "output_type": "execute_result"
    }
   ],
   "source": [
    "data['bucket_change'] = data['survival_change_in_perc'].apply(get_buckets_survival_risk_change)\n",
    "data['bucket_change'].value_counts()"
   ],
   "metadata": {
    "collapsed": false,
    "pycharm": {
     "name": "#%%\n"
    }
   }
  },
  {
   "cell_type": "code",
   "execution_count": 22,
   "outputs": [
    {
     "data": {
      "text/plain": "no risk          120\nlow risk          12\nmoderate risk      1\nName: mean_survival_risk_bucket, dtype: int64"
     },
     "execution_count": 22,
     "metadata": {},
     "output_type": "execute_result"
    }
   ],
   "source": [
    "data['mean_survival_risk_bucket'] = data['survival_mean_risk'].apply(get_risk_bucket)\n",
    "data['mean_survival_risk_bucket'].value_counts()"
   ],
   "metadata": {
    "collapsed": false,
    "pycharm": {
     "name": "#%%\n"
    }
   }
  },
  {
   "cell_type": "code",
   "execution_count": null,
   "outputs": [],
   "source": [
    "summary = data['risk_bucket'].value_counts(normalize=True)\n",
    "if validate_data:\n",
    "    summary.to_excel(f'summary_val_{chosen_account}.xlsx')\n",
    "else:\n",
    "    summary.to_excel(f'summary_all_{chosen_account}.xlsx')"
   ],
   "metadata": {
    "collapsed": false,
    "pycharm": {
     "name": "#%%\n"
    }
   }
  }
 ],
 "metadata": {
  "kernelspec": {
   "display_name": "Python 3",
   "language": "python",
   "name": "python3"
  },
  "language_info": {
   "codemirror_mode": {
    "name": "ipython",
    "version": 3
   },
   "file_extension": ".py",
   "mimetype": "text/x-python",
   "name": "python",
   "nbconvert_exporter": "python",
   "pygments_lexer": "ipython3",
   "version": "3.7.11"
  }
 },
 "nbformat": 4,
 "nbformat_minor": 4
}
